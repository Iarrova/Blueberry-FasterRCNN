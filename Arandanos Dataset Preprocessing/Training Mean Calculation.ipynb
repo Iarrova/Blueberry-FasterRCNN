{
 "cells": [
  {
   "cell_type": "code",
   "execution_count": 1,
   "id": "postal-geneva",
   "metadata": {},
   "outputs": [],
   "source": [
    "import numpy as np\n",
    "import os\n",
    "import cv2\n",
    "import numpy as np"
   ]
  },
  {
   "cell_type": "code",
   "execution_count": 2,
   "id": "arabic-turning",
   "metadata": {},
   "outputs": [],
   "source": [
    "CHANNEL_NUM = 3\n",
    "\n",
    "def calc_dir_stats(root):\n",
    "    all_imgs = os.listdir(root)\n",
    "    all_imgs = [f for f in all_imgs if not f.startswith('.')]\n",
    "    \n",
    "    channel_sum = np.zeros(CHANNEL_NUM)\n",
    "    \n",
    "    k = 0\n",
    "    \n",
    "    for idx, file in enumerate(all_imgs):\n",
    "        k = k+1\n",
    "        filepath = os.path.join(root, file)\n",
    "        im = cv2.imread(filepath)  # BGR Order\n",
    "        \n",
    "        # Get Channel Pixels \n",
    "        blue = np.reshape(im[:,:,0], -1)\n",
    "        green = np.reshape(im[:,:,1], -1)\n",
    "        red = np.reshape(im[:,:,2], -1)\n",
    "        \n",
    "        # Calculate Mean\n",
    "        blue_mean = np.mean(blue)\n",
    "        green_mean = np.mean(green)\n",
    "        red_mean = np.mean(red)\n",
    "        \n",
    "        channel_sum[0] = channel_sum[0] + blue_mean\n",
    "        channel_sum[1] = channel_sum[1] + green_mean\n",
    "        channel_sum[2] = channel_sum[2] + red_mean\n",
    "    \n",
    "    return channel_sum/k"
   ]
  },
  {
   "cell_type": "code",
   "execution_count": 3,
   "id": "parental-somerset",
   "metadata": {},
   "outputs": [
    {
     "data": {
      "text/plain": [
       "array([ 89.46617973, 107.59261959, 103.20682676])"
      ]
     },
     "execution_count": 3,
     "metadata": {},
     "output_type": "execute_result"
    }
   ],
   "source": [
    "train_root = \"dataset/train\"\n",
    "calc_dir_stats(train_root)"
   ]
  }
 ],
 "metadata": {
  "kernelspec": {
   "display_name": "Python 3",
   "language": "python",
   "name": "python3"
  },
  "language_info": {
   "codemirror_mode": {
    "name": "ipython",
    "version": 3
   },
   "file_extension": ".py",
   "mimetype": "text/x-python",
   "name": "python",
   "nbconvert_exporter": "python",
   "pygments_lexer": "ipython3",
   "version": "3.8.3"
  }
 },
 "nbformat": 4,
 "nbformat_minor": 5
}
