{
 "cells": [
  {
   "cell_type": "code",
   "execution_count": 1,
   "id": "central-entrance",
   "metadata": {},
   "outputs": [],
   "source": [
    "import pandas as pd\n",
    "pd.options.mode.chained_assignment = None \n",
    "import json"
   ]
  },
  {
   "cell_type": "code",
   "execution_count": 2,
   "id": "german-stranger",
   "metadata": {},
   "outputs": [],
   "source": [
    "df = pd.read_csv('arandanos.csv')"
   ]
  },
  {
   "cell_type": "code",
   "execution_count": 3,
   "id": "actual-macedonia",
   "metadata": {},
   "outputs": [
    {
     "data": {
      "text/html": [
       "<div>\n",
       "<style scoped>\n",
       "    .dataframe tbody tr th:only-of-type {\n",
       "        vertical-align: middle;\n",
       "    }\n",
       "\n",
       "    .dataframe tbody tr th {\n",
       "        vertical-align: top;\n",
       "    }\n",
       "\n",
       "    .dataframe thead th {\n",
       "        text-align: right;\n",
       "    }\n",
       "</style>\n",
       "<table border=\"1\" class=\"dataframe\">\n",
       "  <thead>\n",
       "    <tr style=\"text-align: right;\">\n",
       "      <th></th>\n",
       "      <th>filename</th>\n",
       "      <th>file_size</th>\n",
       "      <th>file_attributes</th>\n",
       "      <th>region_count</th>\n",
       "      <th>region_id</th>\n",
       "      <th>region_shape_attributes</th>\n",
       "      <th>region_attributes</th>\n",
       "    </tr>\n",
       "  </thead>\n",
       "  <tbody>\n",
       "    <tr>\n",
       "      <th>0</th>\n",
       "      <td>20201124_092900.jpg</td>\n",
       "      <td>2833744</td>\n",
       "      <td>{}</td>\n",
       "      <td>342</td>\n",
       "      <td>0</td>\n",
       "      <td>{\"name\":\"rect\",\"x\":40,\"y\":309,\"width\":47,\"heig...</td>\n",
       "      <td>{\"class\":\"Arandano Maduro\"}</td>\n",
       "    </tr>\n",
       "    <tr>\n",
       "      <th>1</th>\n",
       "      <td>20201124_092900.jpg</td>\n",
       "      <td>2833744</td>\n",
       "      <td>{}</td>\n",
       "      <td>342</td>\n",
       "      <td>1</td>\n",
       "      <td>{\"name\":\"rect\",\"x\":242,\"y\":802,\"width\":30,\"hei...</td>\n",
       "      <td>{\"class\":\"Arandano Maduro\"}</td>\n",
       "    </tr>\n",
       "    <tr>\n",
       "      <th>2</th>\n",
       "      <td>20201124_092900.jpg</td>\n",
       "      <td>2833744</td>\n",
       "      <td>{}</td>\n",
       "      <td>342</td>\n",
       "      <td>2</td>\n",
       "      <td>{\"name\":\"rect\",\"x\":242,\"y\":839,\"width\":39,\"hei...</td>\n",
       "      <td>{\"class\":\"Arandano Maduro\"}</td>\n",
       "    </tr>\n",
       "    <tr>\n",
       "      <th>3</th>\n",
       "      <td>20201124_092900.jpg</td>\n",
       "      <td>2833744</td>\n",
       "      <td>{}</td>\n",
       "      <td>342</td>\n",
       "      <td>3</td>\n",
       "      <td>{\"name\":\"rect\",\"x\":358,\"y\":975,\"width\":25,\"hei...</td>\n",
       "      <td>{\"class\":\"Arandano Pinton\"}</td>\n",
       "    </tr>\n",
       "    <tr>\n",
       "      <th>4</th>\n",
       "      <td>20201124_092900.jpg</td>\n",
       "      <td>2833744</td>\n",
       "      <td>{}</td>\n",
       "      <td>342</td>\n",
       "      <td>4</td>\n",
       "      <td>{\"name\":\"rect\",\"x\":388,\"y\":951,\"width\":29,\"hei...</td>\n",
       "      <td>{\"class\":\"Arandano Pinton\"}</td>\n",
       "    </tr>\n",
       "  </tbody>\n",
       "</table>\n",
       "</div>"
      ],
      "text/plain": [
       "              filename  file_size file_attributes  region_count  region_id  \\\n",
       "0  20201124_092900.jpg    2833744              {}           342          0   \n",
       "1  20201124_092900.jpg    2833744              {}           342          1   \n",
       "2  20201124_092900.jpg    2833744              {}           342          2   \n",
       "3  20201124_092900.jpg    2833744              {}           342          3   \n",
       "4  20201124_092900.jpg    2833744              {}           342          4   \n",
       "\n",
       "                             region_shape_attributes  \\\n",
       "0  {\"name\":\"rect\",\"x\":40,\"y\":309,\"width\":47,\"heig...   \n",
       "1  {\"name\":\"rect\",\"x\":242,\"y\":802,\"width\":30,\"hei...   \n",
       "2  {\"name\":\"rect\",\"x\":242,\"y\":839,\"width\":39,\"hei...   \n",
       "3  {\"name\":\"rect\",\"x\":358,\"y\":975,\"width\":25,\"hei...   \n",
       "4  {\"name\":\"rect\",\"x\":388,\"y\":951,\"width\":29,\"hei...   \n",
       "\n",
       "             region_attributes  \n",
       "0  {\"class\":\"Arandano Maduro\"}  \n",
       "1  {\"class\":\"Arandano Maduro\"}  \n",
       "2  {\"class\":\"Arandano Maduro\"}  \n",
       "3  {\"class\":\"Arandano Pinton\"}  \n",
       "4  {\"class\":\"Arandano Pinton\"}  "
      ]
     },
     "execution_count": 3,
     "metadata": {},
     "output_type": "execute_result"
    }
   ],
   "source": [
    "df.head()"
   ]
  },
  {
   "cell_type": "code",
   "execution_count": 4,
   "id": "hispanic-murray",
   "metadata": {},
   "outputs": [
    {
     "data": {
      "text/plain": [
       "region_attributes          \n",
       "{\"class\":\"Arandano Maduro\"}    5141\n",
       "{\"class\":\"Arandano Pinton\"}    3197\n",
       "{\"class\":\"Arandano Verde\"}     2789\n",
       "{}                              163\n",
       "dtype: int64"
      ]
     },
     "execution_count": 4,
     "metadata": {},
     "output_type": "execute_result"
    }
   ],
   "source": [
    "df[['region_attributes']].value_counts()"
   ]
  },
  {
   "cell_type": "code",
   "execution_count": 5,
   "id": "engaging-fantasy",
   "metadata": {},
   "outputs": [],
   "source": [
    "# Drop elements without class and unused columns\n",
    "drop_index = df[ (df['region_attributes'] == '{\"class\":undefined}') | (df['region_attributes'] == '{}')  ].index\n",
    "df.drop(drop_index, inplace = True)\n",
    "df.drop(['file_attributes', 'file_size', 'region_count', 'region_id'], axis=1, inplace=True)"
   ]
  },
  {
   "cell_type": "code",
   "execution_count": 6,
   "id": "cleared-fountain",
   "metadata": {},
   "outputs": [
    {
     "data": {
      "text/plain": [
       "region_attributes          \n",
       "{\"class\":\"Arandano Maduro\"}    5141\n",
       "{\"class\":\"Arandano Pinton\"}    3197\n",
       "{\"class\":\"Arandano Verde\"}     2789\n",
       "dtype: int64"
      ]
     },
     "execution_count": 6,
     "metadata": {},
     "output_type": "execute_result"
    }
   ],
   "source": [
    "df[['region_attributes']].value_counts()"
   ]
  },
  {
   "cell_type": "code",
   "execution_count": 7,
   "id": "guided-wheel",
   "metadata": {},
   "outputs": [],
   "source": [
    "# Replace label text with correct format\n",
    "df['region_attributes'].replace({\n",
    "    '{\"class\":\"Arandano Maduro\"}': 'Arandano Maduro',\n",
    "    '{\"class\":\"Arandano Verde\"}': 'Arandano Verde',\n",
    "    '{\"class\":\"Arandano Pinton\"}': 'Arandano Pinton'\n",
    "                                 }, inplace = True)"
   ]
  },
  {
   "cell_type": "code",
   "execution_count": 8,
   "id": "dutch-yellow",
   "metadata": {},
   "outputs": [],
   "source": [
    "# Add new columns\n",
    "df['xmin'] = ''    # Top Left\n",
    "df['ymin'] = ''    # Top Left\n",
    "df['xmax'] = ''    # Bottom Right\n",
    "df['ymax'] = ''    # Bottom Right"
   ]
  },
  {
   "cell_type": "code",
   "execution_count": 9,
   "id": "burning-assignment",
   "metadata": {
    "scrolled": true
   },
   "outputs": [
    {
     "data": {
      "text/html": [
       "<div>\n",
       "<style scoped>\n",
       "    .dataframe tbody tr th:only-of-type {\n",
       "        vertical-align: middle;\n",
       "    }\n",
       "\n",
       "    .dataframe tbody tr th {\n",
       "        vertical-align: top;\n",
       "    }\n",
       "\n",
       "    .dataframe thead th {\n",
       "        text-align: right;\n",
       "    }\n",
       "</style>\n",
       "<table border=\"1\" class=\"dataframe\">\n",
       "  <thead>\n",
       "    <tr style=\"text-align: right;\">\n",
       "      <th></th>\n",
       "      <th>filename</th>\n",
       "      <th>region_shape_attributes</th>\n",
       "      <th>region_attributes</th>\n",
       "      <th>xmin</th>\n",
       "      <th>ymin</th>\n",
       "      <th>xmax</th>\n",
       "      <th>ymax</th>\n",
       "    </tr>\n",
       "  </thead>\n",
       "  <tbody>\n",
       "    <tr>\n",
       "      <th>0</th>\n",
       "      <td>20201124_092900.jpg</td>\n",
       "      <td>{\"name\":\"rect\",\"x\":40,\"y\":309,\"width\":47,\"heig...</td>\n",
       "      <td>Arandano Maduro</td>\n",
       "      <td></td>\n",
       "      <td></td>\n",
       "      <td></td>\n",
       "      <td></td>\n",
       "    </tr>\n",
       "    <tr>\n",
       "      <th>1</th>\n",
       "      <td>20201124_092900.jpg</td>\n",
       "      <td>{\"name\":\"rect\",\"x\":242,\"y\":802,\"width\":30,\"hei...</td>\n",
       "      <td>Arandano Maduro</td>\n",
       "      <td></td>\n",
       "      <td></td>\n",
       "      <td></td>\n",
       "      <td></td>\n",
       "    </tr>\n",
       "    <tr>\n",
       "      <th>2</th>\n",
       "      <td>20201124_092900.jpg</td>\n",
       "      <td>{\"name\":\"rect\",\"x\":242,\"y\":839,\"width\":39,\"hei...</td>\n",
       "      <td>Arandano Maduro</td>\n",
       "      <td></td>\n",
       "      <td></td>\n",
       "      <td></td>\n",
       "      <td></td>\n",
       "    </tr>\n",
       "    <tr>\n",
       "      <th>3</th>\n",
       "      <td>20201124_092900.jpg</td>\n",
       "      <td>{\"name\":\"rect\",\"x\":358,\"y\":975,\"width\":25,\"hei...</td>\n",
       "      <td>Arandano Pinton</td>\n",
       "      <td></td>\n",
       "      <td></td>\n",
       "      <td></td>\n",
       "      <td></td>\n",
       "    </tr>\n",
       "    <tr>\n",
       "      <th>4</th>\n",
       "      <td>20201124_092900.jpg</td>\n",
       "      <td>{\"name\":\"rect\",\"x\":388,\"y\":951,\"width\":29,\"hei...</td>\n",
       "      <td>Arandano Pinton</td>\n",
       "      <td></td>\n",
       "      <td></td>\n",
       "      <td></td>\n",
       "      <td></td>\n",
       "    </tr>\n",
       "  </tbody>\n",
       "</table>\n",
       "</div>"
      ],
      "text/plain": [
       "              filename                            region_shape_attributes  \\\n",
       "0  20201124_092900.jpg  {\"name\":\"rect\",\"x\":40,\"y\":309,\"width\":47,\"heig...   \n",
       "1  20201124_092900.jpg  {\"name\":\"rect\",\"x\":242,\"y\":802,\"width\":30,\"hei...   \n",
       "2  20201124_092900.jpg  {\"name\":\"rect\",\"x\":242,\"y\":839,\"width\":39,\"hei...   \n",
       "3  20201124_092900.jpg  {\"name\":\"rect\",\"x\":358,\"y\":975,\"width\":25,\"hei...   \n",
       "4  20201124_092900.jpg  {\"name\":\"rect\",\"x\":388,\"y\":951,\"width\":29,\"hei...   \n",
       "\n",
       "  region_attributes xmin ymin xmax ymax  \n",
       "0   Arandano Maduro                      \n",
       "1   Arandano Maduro                      \n",
       "2   Arandano Maduro                      \n",
       "3   Arandano Pinton                      \n",
       "4   Arandano Pinton                      "
      ]
     },
     "execution_count": 9,
     "metadata": {},
     "output_type": "execute_result"
    }
   ],
   "source": [
    "df.head()"
   ]
  },
  {
   "cell_type": "code",
   "execution_count": 10,
   "id": "binding-imperial",
   "metadata": {},
   "outputs": [],
   "source": [
    "# Fix index (changed because of dropped elements)\n",
    "df.reset_index(drop=True, inplace=True)"
   ]
  },
  {
   "cell_type": "code",
   "execution_count": 11,
   "id": "vocal-kidney",
   "metadata": {},
   "outputs": [
    {
     "data": {
      "text/html": [
       "<div>\n",
       "<style scoped>\n",
       "    .dataframe tbody tr th:only-of-type {\n",
       "        vertical-align: middle;\n",
       "    }\n",
       "\n",
       "    .dataframe tbody tr th {\n",
       "        vertical-align: top;\n",
       "    }\n",
       "\n",
       "    .dataframe thead th {\n",
       "        text-align: right;\n",
       "    }\n",
       "</style>\n",
       "<table border=\"1\" class=\"dataframe\">\n",
       "  <thead>\n",
       "    <tr style=\"text-align: right;\">\n",
       "      <th></th>\n",
       "      <th>filename</th>\n",
       "      <th>region_shape_attributes</th>\n",
       "      <th>region_attributes</th>\n",
       "      <th>xmin</th>\n",
       "      <th>ymin</th>\n",
       "      <th>xmax</th>\n",
       "      <th>ymax</th>\n",
       "    </tr>\n",
       "  </thead>\n",
       "  <tbody>\n",
       "    <tr>\n",
       "      <th>0</th>\n",
       "      <td>20201124_092900.jpg</td>\n",
       "      <td>{\"name\":\"rect\",\"x\":40,\"y\":309,\"width\":47,\"heig...</td>\n",
       "      <td>Arandano Maduro</td>\n",
       "      <td></td>\n",
       "      <td></td>\n",
       "      <td></td>\n",
       "      <td></td>\n",
       "    </tr>\n",
       "    <tr>\n",
       "      <th>1</th>\n",
       "      <td>20201124_092900.jpg</td>\n",
       "      <td>{\"name\":\"rect\",\"x\":242,\"y\":802,\"width\":30,\"hei...</td>\n",
       "      <td>Arandano Maduro</td>\n",
       "      <td></td>\n",
       "      <td></td>\n",
       "      <td></td>\n",
       "      <td></td>\n",
       "    </tr>\n",
       "    <tr>\n",
       "      <th>2</th>\n",
       "      <td>20201124_092900.jpg</td>\n",
       "      <td>{\"name\":\"rect\",\"x\":242,\"y\":839,\"width\":39,\"hei...</td>\n",
       "      <td>Arandano Maduro</td>\n",
       "      <td></td>\n",
       "      <td></td>\n",
       "      <td></td>\n",
       "      <td></td>\n",
       "    </tr>\n",
       "    <tr>\n",
       "      <th>3</th>\n",
       "      <td>20201124_092900.jpg</td>\n",
       "      <td>{\"name\":\"rect\",\"x\":358,\"y\":975,\"width\":25,\"hei...</td>\n",
       "      <td>Arandano Pinton</td>\n",
       "      <td></td>\n",
       "      <td></td>\n",
       "      <td></td>\n",
       "      <td></td>\n",
       "    </tr>\n",
       "    <tr>\n",
       "      <th>4</th>\n",
       "      <td>20201124_092900.jpg</td>\n",
       "      <td>{\"name\":\"rect\",\"x\":388,\"y\":951,\"width\":29,\"hei...</td>\n",
       "      <td>Arandano Pinton</td>\n",
       "      <td></td>\n",
       "      <td></td>\n",
       "      <td></td>\n",
       "      <td></td>\n",
       "    </tr>\n",
       "    <tr>\n",
       "      <th>...</th>\n",
       "      <td>...</td>\n",
       "      <td>...</td>\n",
       "      <td>...</td>\n",
       "      <td>...</td>\n",
       "      <td>...</td>\n",
       "      <td>...</td>\n",
       "      <td>...</td>\n",
       "    </tr>\n",
       "    <tr>\n",
       "      <th>11122</th>\n",
       "      <td>20201124_093147.jpg</td>\n",
       "      <td>{\"name\":\"rect\",\"x\":1727,\"y\":2394,\"width\":44,\"h...</td>\n",
       "      <td>Arandano Verde</td>\n",
       "      <td></td>\n",
       "      <td></td>\n",
       "      <td></td>\n",
       "      <td></td>\n",
       "    </tr>\n",
       "    <tr>\n",
       "      <th>11123</th>\n",
       "      <td>20201124_093147.jpg</td>\n",
       "      <td>{\"name\":\"rect\",\"x\":1710,\"y\":2367,\"width\":46,\"h...</td>\n",
       "      <td>Arandano Verde</td>\n",
       "      <td></td>\n",
       "      <td></td>\n",
       "      <td></td>\n",
       "      <td></td>\n",
       "    </tr>\n",
       "    <tr>\n",
       "      <th>11124</th>\n",
       "      <td>20201124_093147.jpg</td>\n",
       "      <td>{\"name\":\"rect\",\"x\":2179,\"y\":2645,\"width\":45,\"h...</td>\n",
       "      <td>Arandano Verde</td>\n",
       "      <td></td>\n",
       "      <td></td>\n",
       "      <td></td>\n",
       "      <td></td>\n",
       "    </tr>\n",
       "    <tr>\n",
       "      <th>11125</th>\n",
       "      <td>20201124_093147.jpg</td>\n",
       "      <td>{\"name\":\"rect\",\"x\":2121,\"y\":2668,\"width\":46,\"h...</td>\n",
       "      <td>Arandano Verde</td>\n",
       "      <td></td>\n",
       "      <td></td>\n",
       "      <td></td>\n",
       "      <td></td>\n",
       "    </tr>\n",
       "    <tr>\n",
       "      <th>11126</th>\n",
       "      <td>20201124_093147.jpg</td>\n",
       "      <td>{\"name\":\"rect\",\"x\":1700,\"y\":3309,\"width\":39,\"h...</td>\n",
       "      <td>Arandano Pinton</td>\n",
       "      <td></td>\n",
       "      <td></td>\n",
       "      <td></td>\n",
       "      <td></td>\n",
       "    </tr>\n",
       "  </tbody>\n",
       "</table>\n",
       "<p>11127 rows × 7 columns</p>\n",
       "</div>"
      ],
      "text/plain": [
       "                  filename                            region_shape_attributes  \\\n",
       "0      20201124_092900.jpg  {\"name\":\"rect\",\"x\":40,\"y\":309,\"width\":47,\"heig...   \n",
       "1      20201124_092900.jpg  {\"name\":\"rect\",\"x\":242,\"y\":802,\"width\":30,\"hei...   \n",
       "2      20201124_092900.jpg  {\"name\":\"rect\",\"x\":242,\"y\":839,\"width\":39,\"hei...   \n",
       "3      20201124_092900.jpg  {\"name\":\"rect\",\"x\":358,\"y\":975,\"width\":25,\"hei...   \n",
       "4      20201124_092900.jpg  {\"name\":\"rect\",\"x\":388,\"y\":951,\"width\":29,\"hei...   \n",
       "...                    ...                                                ...   \n",
       "11122  20201124_093147.jpg  {\"name\":\"rect\",\"x\":1727,\"y\":2394,\"width\":44,\"h...   \n",
       "11123  20201124_093147.jpg  {\"name\":\"rect\",\"x\":1710,\"y\":2367,\"width\":46,\"h...   \n",
       "11124  20201124_093147.jpg  {\"name\":\"rect\",\"x\":2179,\"y\":2645,\"width\":45,\"h...   \n",
       "11125  20201124_093147.jpg  {\"name\":\"rect\",\"x\":2121,\"y\":2668,\"width\":46,\"h...   \n",
       "11126  20201124_093147.jpg  {\"name\":\"rect\",\"x\":1700,\"y\":3309,\"width\":39,\"h...   \n",
       "\n",
       "      region_attributes xmin ymin xmax ymax  \n",
       "0       Arandano Maduro                      \n",
       "1       Arandano Maduro                      \n",
       "2       Arandano Maduro                      \n",
       "3       Arandano Pinton                      \n",
       "4       Arandano Pinton                      \n",
       "...                 ...  ...  ...  ...  ...  \n",
       "11122    Arandano Verde                      \n",
       "11123    Arandano Verde                      \n",
       "11124    Arandano Verde                      \n",
       "11125    Arandano Verde                      \n",
       "11126   Arandano Pinton                      \n",
       "\n",
       "[11127 rows x 7 columns]"
      ]
     },
     "execution_count": 11,
     "metadata": {},
     "output_type": "execute_result"
    }
   ],
   "source": [
    "df"
   ]
  },
  {
   "cell_type": "code",
   "execution_count": 12,
   "id": "fantastic-jones",
   "metadata": {},
   "outputs": [],
   "source": [
    "# Extract region shape and add bounding box values\n",
    "n = 0\n",
    "widths = 0\n",
    "heights = 0\n",
    "\n",
    "for string in df['region_shape_attributes']:\n",
    "    rect = json.loads(string)\n",
    "    df.at[n, 'xmin'] = rect['x']\n",
    "    df.at[n, 'ymin'] = rect['y']\n",
    "    df.at[n, 'xmax'] = (rect['x'] + rect['width'])\n",
    "    df.at[n, 'ymax'] = (rect['y'] + rect['height'])\n",
    "    n = n+1"
   ]
  },
  {
   "cell_type": "code",
   "execution_count": 13,
   "id": "trained-substance",
   "metadata": {},
   "outputs": [
    {
     "data": {
      "text/html": [
       "<div>\n",
       "<style scoped>\n",
       "    .dataframe tbody tr th:only-of-type {\n",
       "        vertical-align: middle;\n",
       "    }\n",
       "\n",
       "    .dataframe tbody tr th {\n",
       "        vertical-align: top;\n",
       "    }\n",
       "\n",
       "    .dataframe thead th {\n",
       "        text-align: right;\n",
       "    }\n",
       "</style>\n",
       "<table border=\"1\" class=\"dataframe\">\n",
       "  <thead>\n",
       "    <tr style=\"text-align: right;\">\n",
       "      <th></th>\n",
       "      <th>filename</th>\n",
       "      <th>region_attributes</th>\n",
       "      <th>xmin</th>\n",
       "      <th>ymin</th>\n",
       "      <th>xmax</th>\n",
       "      <th>ymax</th>\n",
       "    </tr>\n",
       "  </thead>\n",
       "  <tbody>\n",
       "    <tr>\n",
       "      <th>11122</th>\n",
       "      <td>20201124_093147.jpg</td>\n",
       "      <td>Arandano Verde</td>\n",
       "      <td>1727</td>\n",
       "      <td>2394</td>\n",
       "      <td>1771</td>\n",
       "      <td>2428</td>\n",
       "    </tr>\n",
       "    <tr>\n",
       "      <th>11123</th>\n",
       "      <td>20201124_093147.jpg</td>\n",
       "      <td>Arandano Verde</td>\n",
       "      <td>1710</td>\n",
       "      <td>2367</td>\n",
       "      <td>1756</td>\n",
       "      <td>2406</td>\n",
       "    </tr>\n",
       "    <tr>\n",
       "      <th>11124</th>\n",
       "      <td>20201124_093147.jpg</td>\n",
       "      <td>Arandano Verde</td>\n",
       "      <td>2179</td>\n",
       "      <td>2645</td>\n",
       "      <td>2224</td>\n",
       "      <td>2691</td>\n",
       "    </tr>\n",
       "    <tr>\n",
       "      <th>11125</th>\n",
       "      <td>20201124_093147.jpg</td>\n",
       "      <td>Arandano Verde</td>\n",
       "      <td>2121</td>\n",
       "      <td>2668</td>\n",
       "      <td>2167</td>\n",
       "      <td>2710</td>\n",
       "    </tr>\n",
       "    <tr>\n",
       "      <th>11126</th>\n",
       "      <td>20201124_093147.jpg</td>\n",
       "      <td>Arandano Pinton</td>\n",
       "      <td>1700</td>\n",
       "      <td>3309</td>\n",
       "      <td>1739</td>\n",
       "      <td>3353</td>\n",
       "    </tr>\n",
       "  </tbody>\n",
       "</table>\n",
       "</div>"
      ],
      "text/plain": [
       "                  filename region_attributes  xmin  ymin  xmax  ymax\n",
       "11122  20201124_093147.jpg    Arandano Verde  1727  2394  1771  2428\n",
       "11123  20201124_093147.jpg    Arandano Verde  1710  2367  1756  2406\n",
       "11124  20201124_093147.jpg    Arandano Verde  2179  2645  2224  2691\n",
       "11125  20201124_093147.jpg    Arandano Verde  2121  2668  2167  2710\n",
       "11126  20201124_093147.jpg   Arandano Pinton  1700  3309  1739  3353"
      ]
     },
     "execution_count": 13,
     "metadata": {},
     "output_type": "execute_result"
    }
   ],
   "source": [
    "df.drop(['region_shape_attributes'], axis=1, inplace=True)\n",
    "df.tail()"
   ]
  },
  {
   "cell_type": "code",
   "execution_count": 14,
   "id": "digital-carolina",
   "metadata": {},
   "outputs": [
    {
     "data": {
      "text/html": [
       "<div>\n",
       "<style scoped>\n",
       "    .dataframe tbody tr th:only-of-type {\n",
       "        vertical-align: middle;\n",
       "    }\n",
       "\n",
       "    .dataframe tbody tr th {\n",
       "        vertical-align: top;\n",
       "    }\n",
       "\n",
       "    .dataframe thead th {\n",
       "        text-align: right;\n",
       "    }\n",
       "</style>\n",
       "<table border=\"1\" class=\"dataframe\">\n",
       "  <thead>\n",
       "    <tr style=\"text-align: right;\">\n",
       "      <th></th>\n",
       "      <th>filename</th>\n",
       "      <th>xmin</th>\n",
       "      <th>ymin</th>\n",
       "      <th>xmax</th>\n",
       "      <th>ymax</th>\n",
       "      <th>label</th>\n",
       "    </tr>\n",
       "  </thead>\n",
       "  <tbody>\n",
       "    <tr>\n",
       "      <th>0</th>\n",
       "      <td>20201124_092900.jpg</td>\n",
       "      <td>40</td>\n",
       "      <td>309</td>\n",
       "      <td>87</td>\n",
       "      <td>362</td>\n",
       "      <td>Arandano Maduro</td>\n",
       "    </tr>\n",
       "    <tr>\n",
       "      <th>1</th>\n",
       "      <td>20201124_092900.jpg</td>\n",
       "      <td>242</td>\n",
       "      <td>802</td>\n",
       "      <td>272</td>\n",
       "      <td>835</td>\n",
       "      <td>Arandano Maduro</td>\n",
       "    </tr>\n",
       "    <tr>\n",
       "      <th>2</th>\n",
       "      <td>20201124_092900.jpg</td>\n",
       "      <td>242</td>\n",
       "      <td>839</td>\n",
       "      <td>281</td>\n",
       "      <td>876</td>\n",
       "      <td>Arandano Maduro</td>\n",
       "    </tr>\n",
       "    <tr>\n",
       "      <th>3</th>\n",
       "      <td>20201124_092900.jpg</td>\n",
       "      <td>358</td>\n",
       "      <td>975</td>\n",
       "      <td>383</td>\n",
       "      <td>1003</td>\n",
       "      <td>Arandano Pinton</td>\n",
       "    </tr>\n",
       "    <tr>\n",
       "      <th>4</th>\n",
       "      <td>20201124_092900.jpg</td>\n",
       "      <td>388</td>\n",
       "      <td>951</td>\n",
       "      <td>417</td>\n",
       "      <td>986</td>\n",
       "      <td>Arandano Pinton</td>\n",
       "    </tr>\n",
       "  </tbody>\n",
       "</table>\n",
       "</div>"
      ],
      "text/plain": [
       "              filename xmin ymin xmax  ymax            label\n",
       "0  20201124_092900.jpg   40  309   87   362  Arandano Maduro\n",
       "1  20201124_092900.jpg  242  802  272   835  Arandano Maduro\n",
       "2  20201124_092900.jpg  242  839  281   876  Arandano Maduro\n",
       "3  20201124_092900.jpg  358  975  383  1003  Arandano Pinton\n",
       "4  20201124_092900.jpg  388  951  417   986  Arandano Pinton"
      ]
     },
     "execution_count": 14,
     "metadata": {},
     "output_type": "execute_result"
    }
   ],
   "source": [
    "df.rename(columns={'region_attributes': 'label'}, inplace=True)\n",
    "cols = ['filename', 'xmin', 'ymin', 'xmax', 'ymax', 'label']\n",
    "df = df[cols]\n",
    "df.head()"
   ]
  },
  {
   "cell_type": "code",
   "execution_count": 15,
   "id": "virgin-bidding",
   "metadata": {},
   "outputs": [],
   "source": [
    "n = 0\n",
    "for string in df['filename']:\n",
    "    df.at[n, 'filename'] = 'images/' + df.at[n, 'filename']\n",
    "    n = n+1"
   ]
  },
  {
   "cell_type": "code",
   "execution_count": 16,
   "id": "instructional-singapore",
   "metadata": {},
   "outputs": [
    {
     "name": "stdout",
     "output_type": "stream",
     "text": [
      "(11127, 6)\n"
     ]
    },
    {
     "data": {
      "text/html": [
       "<div>\n",
       "<style scoped>\n",
       "    .dataframe tbody tr th:only-of-type {\n",
       "        vertical-align: middle;\n",
       "    }\n",
       "\n",
       "    .dataframe tbody tr th {\n",
       "        vertical-align: top;\n",
       "    }\n",
       "\n",
       "    .dataframe thead th {\n",
       "        text-align: right;\n",
       "    }\n",
       "</style>\n",
       "<table border=\"1\" class=\"dataframe\">\n",
       "  <thead>\n",
       "    <tr style=\"text-align: right;\">\n",
       "      <th></th>\n",
       "      <th>filename</th>\n",
       "      <th>xmin</th>\n",
       "      <th>ymin</th>\n",
       "      <th>xmax</th>\n",
       "      <th>ymax</th>\n",
       "      <th>label</th>\n",
       "    </tr>\n",
       "  </thead>\n",
       "  <tbody>\n",
       "    <tr>\n",
       "      <th>11122</th>\n",
       "      <td>images/20201124_093147.jpg</td>\n",
       "      <td>1727</td>\n",
       "      <td>2394</td>\n",
       "      <td>1771</td>\n",
       "      <td>2428</td>\n",
       "      <td>Arandano Verde</td>\n",
       "    </tr>\n",
       "    <tr>\n",
       "      <th>11123</th>\n",
       "      <td>images/20201124_093147.jpg</td>\n",
       "      <td>1710</td>\n",
       "      <td>2367</td>\n",
       "      <td>1756</td>\n",
       "      <td>2406</td>\n",
       "      <td>Arandano Verde</td>\n",
       "    </tr>\n",
       "    <tr>\n",
       "      <th>11124</th>\n",
       "      <td>images/20201124_093147.jpg</td>\n",
       "      <td>2179</td>\n",
       "      <td>2645</td>\n",
       "      <td>2224</td>\n",
       "      <td>2691</td>\n",
       "      <td>Arandano Verde</td>\n",
       "    </tr>\n",
       "    <tr>\n",
       "      <th>11125</th>\n",
       "      <td>images/20201124_093147.jpg</td>\n",
       "      <td>2121</td>\n",
       "      <td>2668</td>\n",
       "      <td>2167</td>\n",
       "      <td>2710</td>\n",
       "      <td>Arandano Verde</td>\n",
       "    </tr>\n",
       "    <tr>\n",
       "      <th>11126</th>\n",
       "      <td>images/20201124_093147.jpg</td>\n",
       "      <td>1700</td>\n",
       "      <td>3309</td>\n",
       "      <td>1739</td>\n",
       "      <td>3353</td>\n",
       "      <td>Arandano Pinton</td>\n",
       "    </tr>\n",
       "  </tbody>\n",
       "</table>\n",
       "</div>"
      ],
      "text/plain": [
       "                         filename  xmin  ymin  xmax  ymax            label\n",
       "11122  images/20201124_093147.jpg  1727  2394  1771  2428   Arandano Verde\n",
       "11123  images/20201124_093147.jpg  1710  2367  1756  2406   Arandano Verde\n",
       "11124  images/20201124_093147.jpg  2179  2645  2224  2691   Arandano Verde\n",
       "11125  images/20201124_093147.jpg  2121  2668  2167  2710   Arandano Verde\n",
       "11126  images/20201124_093147.jpg  1700  3309  1739  3353  Arandano Pinton"
      ]
     },
     "execution_count": 16,
     "metadata": {},
     "output_type": "execute_result"
    }
   ],
   "source": [
    "print(df.shape)\n",
    "df.tail()"
   ]
  },
  {
   "cell_type": "code",
   "execution_count": 17,
   "id": "constitutional-fight",
   "metadata": {},
   "outputs": [],
   "source": [
    "df.to_csv('Arandanos_Dataset_Format.csv', index=False)"
   ]
  },
  {
   "cell_type": "code",
   "execution_count": 18,
   "id": "confirmed-circuit",
   "metadata": {},
   "outputs": [
    {
     "data": {
      "text/plain": [
       "filename    object\n",
       "xmin         int32\n",
       "ymin         int32\n",
       "xmax         int32\n",
       "ymax         int32\n",
       "label       object\n",
       "x_size       int32\n",
       "y_size       int32\n",
       "dtype: object"
      ]
     },
     "execution_count": 18,
     "metadata": {},
     "output_type": "execute_result"
    }
   ],
   "source": [
    "df['x_size'] = df['xmax'] - df['xmin']\n",
    "df['y_size'] = df['ymax'] - df['ymin']\n",
    "df[['xmin', 'xmax', 'ymin', 'ymax', 'x_size', 'y_size']] = df[['xmin', 'xmax', 'ymin', 'ymax', 'x_size', 'y_size']].astype('int32')\n",
    "df.dtypes"
   ]
  },
  {
   "cell_type": "code",
   "execution_count": 19,
   "id": "blind-garbage",
   "metadata": {},
   "outputs": [
    {
     "name": "stdout",
     "output_type": "stream",
     "text": [
      "X Mean: 50.52943291093736\n",
      "X Std: 20.594215374170826\n",
      "Y Mean: 50.47020760312753\n",
      "Y Std: 20.31709323972565\n"
     ]
    }
   ],
   "source": [
    "print('X Mean:',df['x_size'].mean())\n",
    "print('X Std:',df['x_size'].std())\n",
    "print('Y Mean:',df['y_size'].mean())\n",
    "print('Y Std:',df['y_size'].std())"
   ]
  },
  {
   "cell_type": "code",
   "execution_count": 20,
   "id": "brief-assets",
   "metadata": {},
   "outputs": [
    {
     "data": {
      "image/png": "[encoded data removed]",
      "text/plain": [
       "<Figure size 1152x720 with 1 Axes>"
      ]
     },
     "metadata": {
      "needs_background": "light"
     },
     "output_type": "display_data"
    }
   ],
   "source": [
    "ax = df['x_size'].plot.hist(bins=50, figsize=(16,10))"
   ]
  },
  {
   "cell_type": "code",
   "execution_count": 21,
   "id": "fresh-world",
   "metadata": {},
   "outputs": [
    {
     "data": {
      "image/png": "[encoded data removed]",
      "text/plain": [
       "<Figure size 1152x720 with 1 Axes>"
      ]
     },
     "metadata": {
      "needs_background": "light"
     },
     "output_type": "display_data"
    }
   ],
   "source": [
    "ax = df['y_size'].plot.hist(bins=50, figsize=(16,10))"
   ]
  }
 ],
 "metadata": {
  "kernelspec": {
   "display_name": "Python 3",
   "language": "python",
   "name": "python3"
  },
  "language_info": {
   "codemirror_mode": {
    "name": "ipython",
    "version": 3
   },
   "file_extension": ".py",
   "mimetype": "text/x-python",
   "name": "python",
   "nbconvert_exporter": "python",
   "pygments_lexer": "ipython3",
   "version": "3.8.3"
  }
 },
 "nbformat": 4,
 "nbformat_minor": 5
}
